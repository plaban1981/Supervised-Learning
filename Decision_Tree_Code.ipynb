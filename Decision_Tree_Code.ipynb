{
  "nbformat": 4,
  "nbformat_minor": 0,
  "metadata": {
    "colab": {
      "name": "Decision Tree Code.ipynb",
      "version": "0.3.2",
      "provenance": [],
      "include_colab_link": true
    },
    "kernelspec": {
      "name": "python3",
      "display_name": "Python 3"
    },
    "accelerator": "GPU"
  },
  "cells": [
    {
      "cell_type": "markdown",
      "metadata": {
        "id": "view-in-github",
        "colab_type": "text"
      },
      "source": [
        "<a href=\"https://colab.research.google.com/github/plaban1981/Supervised-Learning/blob/master/Decision_Tree_Code.ipynb\" target=\"_parent\"><img src=\"https://colab.research.google.com/assets/colab-badge.svg\" alt=\"Open In Colab\"/></a>"
      ]
    },
    {
      "cell_type": "code",
      "metadata": {
        "id": "XjoTJVL6RQPh",
        "colab_type": "code",
        "colab": {
          "resources": {
            "http://localhost:8080/nbextensions/google.colab/files.js": {
              "data": "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",
              "ok": true,
              "headers": [
                [
                  "content-type",
                  "application/javascript"
                ]
              ],
              "status": 200,
              "status_text": ""
            }
          },
          "base_uri": "https://localhost:8080/",
          "height": 111
        },
        "outputId": "3e2da7c3-dfa5-4dcb-a589-76c0aac68a8d"
      },
      "source": [
        "from google.colab import files\n",
        "files.upload()"
      ],
      "execution_count": 2,
      "outputs": [
        {
          "output_type": "display_data",
          "data": {
            "text/html": [
              "\n",
              "     <input type=\"file\" id=\"files-a75f2f38-e7e3-4d11-aa7b-2d15dcc137f5\" name=\"files[]\" multiple disabled />\n",
              "     <output id=\"result-a75f2f38-e7e3-4d11-aa7b-2d15dcc137f5\">\n",
              "      Upload widget is only available when the cell has been executed in the\n",
              "      current browser session. Please rerun this cell to enable.\n",
              "      </output>\n",
              "      <script src=\"/nbextensions/google.colab/files.js\"></script> "
            ],
            "text/plain": [
              "<IPython.core.display.HTML object>"
            ]
          },
          "metadata": {
            "tags": []
          }
        },
        {
          "output_type": "stream",
          "text": [
            "Saving Social_Network_Ads.csv to Social_Network_Ads.csv\n"
          ],
          "name": "stdout"
        },
        {
          "output_type": "execute_result",
          "data": {
            "text/plain": [
              "{'Social_Network_Ads.csv': b'User ID,Gender,Age,EstimatedSalary,Purchased\\r\\n11021175,Male,42,121315,0\\r\\n17782313,Male,53,67214,0\\r\\n14603818,Female,59,111005,0\\r\\n18188198,Female,39,53414,0\\r\\n19357305,Male,39,114285,0\\r\\n19524602,Male,39,107458,0\\r\\n19455396,Female,20,85582,0\\r\\n16879913,Female,59,148335,1\\r\\n11838352,Male,48,80579,0\\r\\n13118940,Female,42,114204,0\\r\\n19524480,Female,32,87786,0\\r\\n12784093,Female,49,113544,0\\r\\n12895966,Male,55,88300,0\\r\\n14674114,Male,54,147066,0\\r\\n12393248,Male,57,139622,0\\r\\n18842131,Male,41,134716,0\\r\\n11060500,Male,51,116333,1\\r\\n14887406,Male,55,72567,1\\r\\n12606442,Male,44,123254,1\\r\\n17919323,Female,47,113548,1\\r\\n17207101,Male,52,79343,1\\r\\n17159912,Female,20,106149,1\\r\\n10718832,Male,40,59674,1\\r\\n16952550,Female,52,76333,1\\r\\n10494682,Male,28,118742,1\\r\\n16824758,Male,22,105897,1\\r\\n11168323,Male,25,114815,1\\r\\n16945283,Female,38,85428,1\\r\\n13865670,Male,57,114005,0\\r\\n16924204,Male,57,133402,0\\r\\n10877441,Male,43,106726,0\\r\\n16751398,Female,35,84550,1\\r\\n10393028,Female,34,96296,0\\r\\n18915643,Female,32,68964,0\\r\\n12430332,Male,55,90946,0\\r\\n16222500,Male,48,51787,0\\r\\n10179619,Female,22,53940,0\\r\\n19088014,Male,42,138928,0\\r\\n15101607,Female,59,116474,0\\r\\n11468592,Female,23,97284,0\\r\\n19207686,Female,40,132951,0\\r\\n16970151,Female,24,119308,0\\r\\n12111836,Male,50,120675,0\\r\\n19889978,Male,41,113547,0\\r\\n19252002,Female,52,102686,0\\r\\n15836350,Male,34,140262,0\\r\\n15448575,Male,20,54075,0\\r\\n16700977,Female,25,63715,0\\r\\n15363592,Male,46,56058,1\\r\\n19732707,Female,58,65052,0\\r\\n13316736,Female,38,72107,0\\r\\n12312881,Female,21,108656,0\\r\\n14328688,Female,42,120639,0\\r\\n11182761,Female,31,68033,0\\r\\n14748686,Female,26,80283,0\\r\\n12639188,Female,47,60952,0\\r\\n12748022,Female,31,123137,0\\r\\n16319219,Male,36,98529,0\\r\\n12475031,Male,25,121301,0\\r\\n15626349,Female,28,61144,0\\r\\n16736728,Male,41,107405,0\\r\\n10975744,Male,32,87032,0\\r\\n11737743,Female,53,118544,0\\r\\n10022583,Male,38,63743,1\\r\\n12170069,Female,43,53404,0\\r\\n15582531,Male,34,88672,0\\r\\n16854184,Male,29,96164,0\\r\\n19722370,Female,47,123288,0\\r\\n13180998,Female,31,122623,0\\r\\n15095883,Female,31,78696,0\\r\\n11791767,Male,51,142525,0\\r\\n10834754,Female,59,87656,0\\r\\n19593586,Female,29,142587,0\\r\\n13820172,Female,25,136561,0\\r\\n14277912,Male,59,146860,0\\r\\n11545934,Male,60,142362,1\\r\\n14987736,Male,35,69596,0\\r\\n13303975,Female,26,68131,0\\r\\n15428925,Female,36,110448,0\\r\\n13381602,Female,23,83386,0\\r\\n11361735,Male,58,108578,0\\r\\n15033754,Male,30,141388,0\\r\\n19578925,Male,43,149365,0\\r\\n17612239,Male,56,58313,0\\r\\n15831720,Female,51,102619,0\\r\\n14837893,Female,28,55147,1\\r\\n18542893,Male,41,50075,0\\r\\n11498000,Female,34,107704,0\\r\\n15074974,Male,43,114836,0\\r\\n14944684,Male,47,121827,0\\r\\n12096012,Male,34,81442,0\\r\\n12847992,Female,34,107339,0\\r\\n16451642,Male,26,112221,0\\r\\n10329710,Female,45,95625,0\\r\\n17409496,Female,57,122153,0\\r\\n14132258,Female,51,95670,0\\r\\n15820590,Female,34,143045,0\\r\\n16842759,Male,59,137848,1\\r\\n18373304,Male,36,52183,0\\r\\n17221149,Female,36,79634,0\\r\\n18995595,Male,23,113567,0\\r\\n12604407,Male,54,141579,0\\r\\n10281197,Female,37,65595,0\\r\\n19729051,Female,36,112290,1\\r\\n18441472,Female,34,81496,0\\r\\n18388568,Male,50,149336,0\\r\\n15544238,Female,40,75308,0\\r\\n18736057,Male,52,100654,0\\r\\n10901997,Male,41,126711,0\\r\\n16291708,Female,40,108120,0\\r\\n16479983,Female,49,105753,0\\r\\n11526539,Female,20,136968,0\\r\\n14577907,Male,24,93042,0\\r\\n18422125,Male,28,123123,0\\r\\n10042352,Male,20,82371,0\\r\\n13159383,Male,23,124432,0\\r\\n14865163,Male,39,77263,0\\r\\n17235614,Male,42,74062,0\\r\\n14612260,Male,56,66914,0\\r\\n15340208,Male,20,135880,0\\r\\n10156616,Female,56,141015,0\\r\\n10717227,Male,47,56095,0\\r\\n12799849,Female,54,105953,0\\r\\n19111319,Male,31,134226,0\\r\\n16399245,Female,40,140382,0\\r\\n18472983,Female,52,83150,0\\r\\n12347876,Male,43,134224,0\\r\\n10256538,Male,45,56858,0\\r\\n14247551,Male,58,78749,0\\r\\n12121770,Female,30,85067,0\\r\\n18408535,Male,32,126056,0\\r\\n10918795,Male,25,113954,0\\r\\n11509789,Male,48,95856,0\\r\\n19689953,Female,33,97459,0\\r\\n12994212,Female,47,135037,0\\r\\n14597040,Male,26,119179,0\\r\\n17220294,Female,54,149039,0\\r\\n16208845,Male,45,82604,1\\r\\n12402908,Female,58,141603,0\\r\\n17320880,Male,54,78694,0\\r\\n18858983,Male,57,124533,0\\r\\n17037885,Female,50,131911,0\\r\\n12080594,Male,41,59001,0\\r\\n11736810,Male,46,121055,0\\r\\n16627100,Female,56,129867,0\\r\\n11402531,Female,29,92841,0\\r\\n14021314,Female,30,52952,1\\r\\n13979829,Female,37,110760,0\\r\\n16949966,Male,26,118184,0\\r\\n15122981,Male,33,112314,0\\r\\n17195037,Female,41,89916,0\\r\\n12347739,Male,30,121311,0\\r\\n19368273,Male,35,89632,0\\r\\n19979945,Female,45,100855,0\\r\\n18923053,Male,43,65553,0\\r\\n16921961,Female,54,53506,0\\r\\n15157393,Male,52,52428,0\\r\\n14158971,Male,58,82785,0\\r\\n12234539,Male,30,53649,0\\r\\n16405725,Female,22,87705,1\\r\\n12097069,Male,52,89220,1\\r\\n18337114,Male,46,144559,0\\r\\n18572665,Female,56,100871,0\\r\\n17648580,Male,25,144076,0\\r\\n19937362,Female,22,92835,0\\r\\n12653285,Female,42,143855,0\\r\\n19091289,Female,40,134666,0\\r\\n15409859,Female,58,60780,0\\r\\n13541455,Male,38,71907,1\\r\\n14682688,Female,53,117339,0\\r\\n15865451,Male,24,59930,0\\r\\n19834427,Male,45,81582,0\\r\\n13416417,Female,43,105079,0\\r\\n19552352,Female,54,89483,0\\r\\n12234839,Female,30,101011,0\\r\\n14640007,Female,24,63875,0\\r\\n18785069,Female,43,78367,0\\r\\n11878299,Male,34,98157,0\\r\\n14304040,Male,21,67195,0\\r\\n15837569,Female,27,60011,0\\r\\n17938720,Male,43,85692,0\\r\\n10687124,Female,31,122030,0\\r\\n17091197,Female,35,111404,1\\r\\n12295226,Male,51,112365,0\\r\\n14422452,Female,24,145116,0\\r\\n11263186,Male,53,84777,0\\r\\n15154279,Female,24,117799,0\\r\\n12990235,Female,49,123887,0\\r\\n19056641,Male,37,110617,0\\r\\n12752547,Male,39,66443,0\\r\\n17470596,Male,28,74078,0\\r\\n14135646,Female,34,53024,0\\r\\n14234957,Male,45,60629,0\\r\\n18312433,Male,38,96053,0\\r\\n14120936,Male,37,115700,0\\r\\n11927854,Male,32,149553,0\\r\\n17241333,Female,22,54897,0\\r\\n13300814,Female,57,106814,0\\r\\n14949334,Male,26,82215,0\\r\\n18633415,Male,34,97989,0\\r\\n17247913,Male,34,129656,0\\r\\n12621151,Male,48,54293,0\\r\\n18758144,Female,41,115121,1\\r\\n17663666,Female,47,58050,0\\r\\n12315820,Female,32,106526,1\\r\\n14134645,Female,31,66259,0\\r\\n17904574,Female,56,114193,1\\r\\n13412808,Female,32,93654,0\\r\\n16987108,Female,30,90905,1\\r\\n15553472,Female,32,87630,0\\r\\n14393136,Female,23,57412,1\\r\\n11595184,Male,35,138992,1\\r\\n18606336,Female,55,79423,0\\r\\n17118629,Male,23,58900,0\\r\\n10173070,Male,32,79811,0\\r\\n15631601,Female,42,73731,1\\r\\n12756732,Male,45,97845,0\\r\\n19155978,Male,46,124974,0\\r\\n11550588,Female,25,126831,0\\r\\n11237646,Male,29,129796,1\\r\\n15954386,Female,44,113742,0\\r\\n19084041,Male,46,140395,1\\r\\n13935210,Male,33,96753,1\\r\\n17771754,Male,25,73636,1\\r\\n14161372,Female,54,131776,0\\r\\n12379581,Male,53,115173,0\\r\\n13339585,Female,23,132989,1\\r\\n11988249,Male,55,78749,1\\r\\n15724644,Female,26,114306,0\\r\\n18785146,Female,29,144160,1\\r\\n15500233,Female,59,73810,1\\r\\n12051463,Male,45,69716,0\\r\\n18984892,Male,52,103076,1\\r\\n18876152,Male,31,120701,1\\r\\n18375345,Female,43,88766,0\\r\\n14742110,Male,51,145365,1\\r\\n12889227,Male,39,100402,0\\r\\n16047909,Female,33,133440,0\\r\\n17367032,Female,28,79496,0\\r\\n17286605,Female,42,59216,1\\r\\n10436602,Male,23,59666,1\\r\\n15599951,Male,28,96148,0\\r\\n18548743,Female,57,104693,1\\r\\n13233232,Female,38,125226,1\\r\\n11695411,Female,25,64832,0\\r\\n18129927,Female,44,147276,1\\r\\n11904328,Female,36,51894,0\\r\\n17199946,Female,46,87539,1\\r\\n14386374,Male,44,123166,0\\r\\n18936622,Female,58,80730,1\\r\\n17423361,Female,52,61880,0\\r\\n14359046,Male,55,55940,0\\r\\n16556264,Female,36,83172,1\\r\\n11934096,Female,57,62224,1\\r\\n17637080,Female,29,85752,0\\r\\n19094298,Female,21,92044,1\\r\\n13289662,Female,58,114689,0\\r\\n19318762,Male,25,75753,0\\r\\n19996164,Female,39,147108,1\\r\\n19201147,Female,27,116149,1\\r\\n18852036,Female,41,76066,0\\r\\n16127707,Male,28,139815,1\\r\\n16938016,Female,51,89365,1\\r\\n13015452,Female,30,96984,0\\r\\n16089472,Male,45,83469,1\\r\\n19829615,Female,43,123902,1\\r\\n19792861,Male,31,103674,0\\r\\n11694399,Male,25,149284,0\\r\\n11048607,Female,55,101685,1\\r\\n17740956,Male,29,84375,0\\r\\n19731398,Female,59,80400,0\\r\\n16285837,Female,35,116617,1\\r\\n15065150,Male,48,63697,1\\r\\n10630252,Male,23,125328,1\\r\\n15970217,Female,31,115264,1\\r\\n18461442,Male,22,52203,1\\r\\n13343624,Male,55,79300,0\\r\\n19407183,Male,24,118146,1\\r\\n11974073,Female,45,118915,1\\r\\n15381306,Female,32,145807,1\\r\\n13158130,Female,25,89964,1\\r\\n11234900,Male,57,100193,0\\r\\n11707144,Male,59,51243,1\\r\\n18346701,Female,59,96999,1\\r\\n14552169,Male,51,120749,0\\r\\n10329979,Female,47,90983,1\\r\\n18832942,Female,38,66879,0\\r\\n19251623,Female,59,56930,1\\r\\n18127250,Male,60,74753,0\\r\\n10808766,Female,24,142544,1\\r\\n11863493,Male,56,71895,1\\r\\n19932508,Male,39,138840,1\\r\\n15135461,Male,36,73233,1\\r\\n17639768,Male,37,144858,0\\r\\n13638592,Female,37,137622,0\\r\\n15126040,Female,20,61919,0\\r\\n11253365,Male,59,83724,1\\r\\n18499298,Female,50,114793,1\\r\\n10121165,Male,51,117179,0\\r\\n14964855,Male,60,64051,1\\r\\n14004679,Female,35,56687,1\\r\\n16081179,Male,57,101429,1\\r\\n19469686,Female,43,74931,1\\r\\n16385762,Male,27,71384,1\\r\\n17508765,Female,30,130926,0\\r\\n10719525,Male,22,111072,0\\r\\n19493665,Female,57,137143,0\\r\\n14159575,Female,37,65536,1\\r\\n15978122,Male,25,89304,1\\r\\n10471705,Female,23,140900,0\\r\\n14729707,Female,50,136552,0\\r\\n19378301,Male,54,75491,1\\r\\n14369586,Female,52,71429,0\\r\\n18334757,Female,59,81753,1\\r\\n19857584,Female,44,95919,0\\r\\n15104674,Female,47,108041,1\\r\\n10755887,Female,29,83561,1\\r\\n14710263,Male,47,118252,0\\r\\n11207716,Male,52,74847,1\\r\\n10110440,Male,25,58866,0\\r\\n15759946,Female,38,64972,1\\r\\n12795571,Female,20,64957,1\\r\\n11108075,Male,22,111361,0\\r\\n14565359,Female,43,91205,1\\r\\n15019695,Female,41,65781,1\\r\\n12193055,Female,32,126318,0\\r\\n12104634,Male,23,140167,0\\r\\n10161659,Female,28,94239,0\\r\\n18150736,Male,52,125189,1\\r\\n17821942,Female,52,63103,1\\r\\n16115725,Male,40,107099,0\\r\\n10053458,Female,49,59438,1\\r\\n14405983,Male,36,134882,0\\r\\n15729876,Male,28,58789,0\\r\\n18402600,Male,37,145025,1\\r\\n12942567,Female,22,146149,0\\r\\n16666460,Male,31,127446,1\\r\\n10581791,Male,39,83401,0\\r\\n12761947,Female,21,123460,0\\r\\n16128956,Male,51,64207,1\\r\\n12321047,Female,49,128666,1\\r\\n15454934,Male,48,120137,0\\r\\n11674669,Female,28,80299,0\\r\\n18434228,Female,30,104548,1\\r\\n17334461,Male,24,138809,1\\r\\n13944750,Female,42,130324,0\\r\\n15164823,Male,59,139963,1\\r\\n14123322,Female,60,72905,1\\r\\n17057160,Male,51,52093,0\\r\\n13969427,Male,36,119778,0\\r\\n12128662,Female,33,86617,1\\r\\n15870229,Male,29,69997,0\\r\\n15672472,Female,21,89174,1\\r\\n13697592,Female,44,143222,0\\r\\n13687850,Male,29,130705,1\\r\\n19377745,Male,59,80220,1\\r\\n12360193,Male,28,119752,1\\r\\n17292492,Female,21,76043,0\\r\\n15785957,Male,44,145967,1\\r\\n11104177,Male,25,79824,0\\r\\n14703584,Male,43,89982,1\\r\\n19049409,Female,46,147530,1\\r\\n15238081,Female,36,60575,1\\r\\n13961765,Female,43,78098,0\\r\\n17089155,Male,55,81409,1\\r\\n12297426,Female,28,70948,1\\r\\n16290815,Female,50,104297,1\\r\\n12645768,Male,48,127871,1\\r\\n19702819,Male,33,126297,0\\r\\n13603624,Female,24,110968,1\\r\\n10974769,Female,53,91670,1\\r\\n15997078,Male,39,91484,1\\r\\n15543007,Female,38,79015,0\\r\\n12045512,Male,47,105738,1\\r\\n18148680,Female,60,149376,0\\r\\n19389802,Female,32,132339,1\\r\\n14176702,Female,55,65263,0\\r\\n16272022,Female,43,121151,0\\r\\n13867391,Male,55,143658,1\\r\\n14220159,Female,39,107871,1\\r\\n14988491,Male,35,88727,0\\r\\n13839143,Male,55,78055,1\\r\\n13739543,Female,36,58593,1\\r\\n16476895,Male,27,62004,1\\r\\n16144247,Female,51,99881,1\\r\\n19172097,Male,42,72411,1\\r\\n15679010,Female,47,91721,1\\r\\n12372850,Male,34,140775,0\\r\\n18431004,Male,35,79146,1\\r\\n17054280,Female,58,128623,1\\r\\n18333359,Male,25,128311,1\\r\\n13980301,Male,23,72896,1\\r\\n15750258,Female,57,115969,1\\r\\n19695633,Male,28,111173,1\\r\\n13806266,Female,41,107820,0\\r\\n10220446,Female,20,141231,1\\r\\n12387292,Male,50,75848,1\\r\\n10715173,Female,25,82560,1\\r\\n10016842,Male,55,147667,0\\r\\n11699655,Female,54,134972,1\\r\\n'}"
            ]
          },
          "metadata": {
            "tags": []
          },
          "execution_count": 2
        }
      ]
    },
    {
      "cell_type": "markdown",
      "metadata": {
        "id": "bDCdnFT2R6uS",
        "colab_type": "text"
      },
      "source": [
        "## Import Libraries"
      ]
    },
    {
      "cell_type": "code",
      "metadata": {
        "id": "M-L5d1GLR6IR",
        "colab_type": "code",
        "colab": {}
      },
      "source": [
        "import numpy as np\n",
        "import pandas as pd\n",
        "import matplotlib.pyplot as plt"
      ],
      "execution_count": 0,
      "outputs": []
    },
    {
      "cell_type": "code",
      "metadata": {
        "id": "zP_nUBwDSh2C",
        "colab_type": "code",
        "colab": {
          "base_uri": "https://localhost:8080/",
          "height": 204
        },
        "outputId": "582f0eb1-3e31-48f9-9bba-05f64fa57da3"
      },
      "source": [
        "df = pd.read_csv('Social_Network_Ads.csv')\n",
        "df.head()"
      ],
      "execution_count": 4,
      "outputs": [
        {
          "output_type": "execute_result",
          "data": {
            "text/html": [
              "<div>\n",
              "<style scoped>\n",
              "    .dataframe tbody tr th:only-of-type {\n",
              "        vertical-align: middle;\n",
              "    }\n",
              "\n",
              "    .dataframe tbody tr th {\n",
              "        vertical-align: top;\n",
              "    }\n",
              "\n",
              "    .dataframe thead th {\n",
              "        text-align: right;\n",
              "    }\n",
              "</style>\n",
              "<table border=\"1\" class=\"dataframe\">\n",
              "  <thead>\n",
              "    <tr style=\"text-align: right;\">\n",
              "      <th></th>\n",
              "      <th>User ID</th>\n",
              "      <th>Gender</th>\n",
              "      <th>Age</th>\n",
              "      <th>EstimatedSalary</th>\n",
              "      <th>Purchased</th>\n",
              "    </tr>\n",
              "  </thead>\n",
              "  <tbody>\n",
              "    <tr>\n",
              "      <th>0</th>\n",
              "      <td>11021175</td>\n",
              "      <td>Male</td>\n",
              "      <td>42</td>\n",
              "      <td>121315</td>\n",
              "      <td>0</td>\n",
              "    </tr>\n",
              "    <tr>\n",
              "      <th>1</th>\n",
              "      <td>17782313</td>\n",
              "      <td>Male</td>\n",
              "      <td>53</td>\n",
              "      <td>67214</td>\n",
              "      <td>0</td>\n",
              "    </tr>\n",
              "    <tr>\n",
              "      <th>2</th>\n",
              "      <td>14603818</td>\n",
              "      <td>Female</td>\n",
              "      <td>59</td>\n",
              "      <td>111005</td>\n",
              "      <td>0</td>\n",
              "    </tr>\n",
              "    <tr>\n",
              "      <th>3</th>\n",
              "      <td>18188198</td>\n",
              "      <td>Female</td>\n",
              "      <td>39</td>\n",
              "      <td>53414</td>\n",
              "      <td>0</td>\n",
              "    </tr>\n",
              "    <tr>\n",
              "      <th>4</th>\n",
              "      <td>19357305</td>\n",
              "      <td>Male</td>\n",
              "      <td>39</td>\n",
              "      <td>114285</td>\n",
              "      <td>0</td>\n",
              "    </tr>\n",
              "  </tbody>\n",
              "</table>\n",
              "</div>"
            ],
            "text/plain": [
              "    User ID  Gender  Age  EstimatedSalary  Purchased\n",
              "0  11021175    Male   42           121315          0\n",
              "1  17782313    Male   53            67214          0\n",
              "2  14603818  Female   59           111005          0\n",
              "3  18188198  Female   39            53414          0\n",
              "4  19357305    Male   39           114285          0"
            ]
          },
          "metadata": {
            "tags": []
          },
          "execution_count": 4
        }
      ]
    },
    {
      "cell_type": "markdown",
      "metadata": {
        "id": "rW1I2pyzTIws",
        "colab_type": "text"
      },
      "source": [
        "## Select the predictors and target"
      ]
    },
    {
      "cell_type": "code",
      "metadata": {
        "id": "jxmIcYOeTP_c",
        "colab_type": "code",
        "colab": {}
      },
      "source": [
        "X = df.drop(['User ID','Purchased'],axis=1)\n",
        "Y = df['Purchased']"
      ],
      "execution_count": 0,
      "outputs": []
    },
    {
      "cell_type": "code",
      "metadata": {
        "id": "ryi4ezw8Vjpc",
        "colab_type": "code",
        "colab": {
          "base_uri": "https://localhost:8080/",
          "height": 204
        },
        "outputId": "52c56ede-cb49-45d8-aa64-0af1a9a61d8a"
      },
      "source": [
        "X.head()"
      ],
      "execution_count": 6,
      "outputs": [
        {
          "output_type": "execute_result",
          "data": {
            "text/html": [
              "<div>\n",
              "<style scoped>\n",
              "    .dataframe tbody tr th:only-of-type {\n",
              "        vertical-align: middle;\n",
              "    }\n",
              "\n",
              "    .dataframe tbody tr th {\n",
              "        vertical-align: top;\n",
              "    }\n",
              "\n",
              "    .dataframe thead th {\n",
              "        text-align: right;\n",
              "    }\n",
              "</style>\n",
              "<table border=\"1\" class=\"dataframe\">\n",
              "  <thead>\n",
              "    <tr style=\"text-align: right;\">\n",
              "      <th></th>\n",
              "      <th>Gender</th>\n",
              "      <th>Age</th>\n",
              "      <th>EstimatedSalary</th>\n",
              "    </tr>\n",
              "  </thead>\n",
              "  <tbody>\n",
              "    <tr>\n",
              "      <th>0</th>\n",
              "      <td>Male</td>\n",
              "      <td>42</td>\n",
              "      <td>121315</td>\n",
              "    </tr>\n",
              "    <tr>\n",
              "      <th>1</th>\n",
              "      <td>Male</td>\n",
              "      <td>53</td>\n",
              "      <td>67214</td>\n",
              "    </tr>\n",
              "    <tr>\n",
              "      <th>2</th>\n",
              "      <td>Female</td>\n",
              "      <td>59</td>\n",
              "      <td>111005</td>\n",
              "    </tr>\n",
              "    <tr>\n",
              "      <th>3</th>\n",
              "      <td>Female</td>\n",
              "      <td>39</td>\n",
              "      <td>53414</td>\n",
              "    </tr>\n",
              "    <tr>\n",
              "      <th>4</th>\n",
              "      <td>Male</td>\n",
              "      <td>39</td>\n",
              "      <td>114285</td>\n",
              "    </tr>\n",
              "  </tbody>\n",
              "</table>\n",
              "</div>"
            ],
            "text/plain": [
              "   Gender  Age  EstimatedSalary\n",
              "0    Male   42           121315\n",
              "1    Male   53            67214\n",
              "2  Female   59           111005\n",
              "3  Female   39            53414\n",
              "4    Male   39           114285"
            ]
          },
          "metadata": {
            "tags": []
          },
          "execution_count": 6
        }
      ]
    },
    {
      "cell_type": "markdown",
      "metadata": {
        "id": "dpJLTSOBV5_0",
        "colab_type": "text"
      },
      "source": [
        "## Label  Encoding"
      ]
    },
    {
      "cell_type": "code",
      "metadata": {
        "id": "3qXLqLrkVp69",
        "colab_type": "code",
        "colab": {
          "base_uri": "https://localhost:8080/",
          "height": 204
        },
        "outputId": "bfb73bb8-ce74-4879-8cb9-4e48d080b46e"
      },
      "source": [
        "from sklearn.preprocessing import LabelEncoder\n",
        "lb = LabelEncoder()\n",
        "X['Gender_'] = lb.fit_transform(X['Gender'])\n",
        "X.head()"
      ],
      "execution_count": 7,
      "outputs": [
        {
          "output_type": "execute_result",
          "data": {
            "text/html": [
              "<div>\n",
              "<style scoped>\n",
              "    .dataframe tbody tr th:only-of-type {\n",
              "        vertical-align: middle;\n",
              "    }\n",
              "\n",
              "    .dataframe tbody tr th {\n",
              "        vertical-align: top;\n",
              "    }\n",
              "\n",
              "    .dataframe thead th {\n",
              "        text-align: right;\n",
              "    }\n",
              "</style>\n",
              "<table border=\"1\" class=\"dataframe\">\n",
              "  <thead>\n",
              "    <tr style=\"text-align: right;\">\n",
              "      <th></th>\n",
              "      <th>Gender</th>\n",
              "      <th>Age</th>\n",
              "      <th>EstimatedSalary</th>\n",
              "      <th>Gender_</th>\n",
              "    </tr>\n",
              "  </thead>\n",
              "  <tbody>\n",
              "    <tr>\n",
              "      <th>0</th>\n",
              "      <td>Male</td>\n",
              "      <td>42</td>\n",
              "      <td>121315</td>\n",
              "      <td>1</td>\n",
              "    </tr>\n",
              "    <tr>\n",
              "      <th>1</th>\n",
              "      <td>Male</td>\n",
              "      <td>53</td>\n",
              "      <td>67214</td>\n",
              "      <td>1</td>\n",
              "    </tr>\n",
              "    <tr>\n",
              "      <th>2</th>\n",
              "      <td>Female</td>\n",
              "      <td>59</td>\n",
              "      <td>111005</td>\n",
              "      <td>0</td>\n",
              "    </tr>\n",
              "    <tr>\n",
              "      <th>3</th>\n",
              "      <td>Female</td>\n",
              "      <td>39</td>\n",
              "      <td>53414</td>\n",
              "      <td>0</td>\n",
              "    </tr>\n",
              "    <tr>\n",
              "      <th>4</th>\n",
              "      <td>Male</td>\n",
              "      <td>39</td>\n",
              "      <td>114285</td>\n",
              "      <td>1</td>\n",
              "    </tr>\n",
              "  </tbody>\n",
              "</table>\n",
              "</div>"
            ],
            "text/plain": [
              "   Gender  Age  EstimatedSalary  Gender_\n",
              "0    Male   42           121315        1\n",
              "1    Male   53            67214        1\n",
              "2  Female   59           111005        0\n",
              "3  Female   39            53414        0\n",
              "4    Male   39           114285        1"
            ]
          },
          "metadata": {
            "tags": []
          },
          "execution_count": 7
        }
      ]
    },
    {
      "cell_type": "markdown",
      "metadata": {
        "id": "esg2z9kEWawH",
        "colab_type": "text"
      },
      "source": [
        "## Feature Scaling"
      ]
    },
    {
      "cell_type": "code",
      "metadata": {
        "id": "NUP3gYWnWeEf",
        "colab_type": "code",
        "colab": {}
      },
      "source": [
        "from sklearn.preprocessing import StandardScaler\n",
        "from sklearn.model_selection import train_test_split\n",
        "sc = StandardScaler()\n",
        "X = X[['Gender_','Age','EstimatedSalary']]\n",
        "\n",
        "X_train,X_test,y_train,y_test = train_test_split(X,Y,test_size=0.8,random_state=1)\n",
        "X_train = sc.fit_transform(X_train)\n",
        "X_test = sc.transform(X_test)\n",
        "\n"
      ],
      "execution_count": 0,
      "outputs": []
    },
    {
      "cell_type": "markdown",
      "metadata": {
        "id": "iwDrk6KRX9yw",
        "colab_type": "text"
      },
      "source": [
        "## Decision Tree Model"
      ]
    },
    {
      "cell_type": "code",
      "metadata": {
        "id": "ZJ13BCELYAua",
        "colab_type": "code",
        "colab": {}
      },
      "source": [
        "from sklearn.tree import DecisionTreeClassifier \n",
        "classifier = DecisionTreeClassifier(criterion='entropy',random_state=1)"
      ],
      "execution_count": 0,
      "outputs": []
    },
    {
      "cell_type": "markdown",
      "metadata": {
        "id": "N_w67Mk1YnMw",
        "colab_type": "text"
      },
      "source": [
        "## Fit the training data"
      ]
    },
    {
      "cell_type": "code",
      "metadata": {
        "id": "DVtcxAguYvhR",
        "colab_type": "code",
        "colab": {
          "base_uri": "https://localhost:8080/",
          "height": 119
        },
        "outputId": "f7268a39-afe6-4918-be71-3369f9e2aae8"
      },
      "source": [
        "classifier.fit(X_train,y_train)"
      ],
      "execution_count": 10,
      "outputs": [
        {
          "output_type": "execute_result",
          "data": {
            "text/plain": [
              "DecisionTreeClassifier(class_weight=None, criterion='entropy', max_depth=None,\n",
              "                       max_features=None, max_leaf_nodes=None,\n",
              "                       min_impurity_decrease=0.0, min_impurity_split=None,\n",
              "                       min_samples_leaf=1, min_samples_split=2,\n",
              "                       min_weight_fraction_leaf=0.0, presort=False,\n",
              "                       random_state=1, splitter='best')"
            ]
          },
          "metadata": {
            "tags": []
          },
          "execution_count": 10
        }
      ]
    },
    {
      "cell_type": "markdown",
      "metadata": {
        "id": "kVQxK5OXZGp-",
        "colab_type": "text"
      },
      "source": [
        "## Predictions"
      ]
    },
    {
      "cell_type": "code",
      "metadata": {
        "id": "YpV8hN0UYmjk",
        "colab_type": "code",
        "colab": {}
      },
      "source": [
        "y_pred = classifier.predict(X_test)"
      ],
      "execution_count": 0,
      "outputs": []
    },
    {
      "cell_type": "markdown",
      "metadata": {
        "id": "uJeznE2vZTv1",
        "colab_type": "text"
      },
      "source": [
        "## Confusion Matrix"
      ]
    },
    {
      "cell_type": "code",
      "metadata": {
        "id": "EFKDi3fCZZn3",
        "colab_type": "code",
        "colab": {
          "base_uri": "https://localhost:8080/",
          "height": 272
        },
        "outputId": "2a649e3e-2e55-4e96-ab94-45110dc8b0ba"
      },
      "source": [
        "!pip install scikit-plot"
      ],
      "execution_count": 13,
      "outputs": [
        {
          "output_type": "stream",
          "text": [
            "Collecting scikit-plot\n",
            "  Downloading https://files.pythonhosted.org/packages/7c/47/32520e259340c140a4ad27c1b97050dd3254fdc517b1d59974d47037510e/scikit_plot-0.3.7-py3-none-any.whl\n",
            "Requirement already satisfied: scipy>=0.9 in /usr/local/lib/python3.6/dist-packages (from scikit-plot) (1.3.1)\n",
            "Requirement already satisfied: scikit-learn>=0.18 in /usr/local/lib/python3.6/dist-packages (from scikit-plot) (0.21.3)\n",
            "Requirement already satisfied: matplotlib>=1.4.0 in /usr/local/lib/python3.6/dist-packages (from scikit-plot) (3.0.3)\n",
            "Requirement already satisfied: joblib>=0.10 in /usr/local/lib/python3.6/dist-packages (from scikit-plot) (0.13.2)\n",
            "Requirement already satisfied: numpy>=1.13.3 in /usr/local/lib/python3.6/dist-packages (from scipy>=0.9->scikit-plot) (1.16.4)\n",
            "Requirement already satisfied: pyparsing!=2.0.4,!=2.1.2,!=2.1.6,>=2.0.1 in /usr/local/lib/python3.6/dist-packages (from matplotlib>=1.4.0->scikit-plot) (2.4.2)\n",
            "Requirement already satisfied: kiwisolver>=1.0.1 in /usr/local/lib/python3.6/dist-packages (from matplotlib>=1.4.0->scikit-plot) (1.1.0)\n",
            "Requirement already satisfied: cycler>=0.10 in /usr/local/lib/python3.6/dist-packages (from matplotlib>=1.4.0->scikit-plot) (0.10.0)\n",
            "Requirement already satisfied: python-dateutil>=2.1 in /usr/local/lib/python3.6/dist-packages (from matplotlib>=1.4.0->scikit-plot) (2.5.3)\n",
            "Requirement already satisfied: setuptools in /usr/local/lib/python3.6/dist-packages (from kiwisolver>=1.0.1->matplotlib>=1.4.0->scikit-plot) (41.2.0)\n",
            "Requirement already satisfied: six in /usr/local/lib/python3.6/dist-packages (from cycler>=0.10->matplotlib>=1.4.0->scikit-plot) (1.12.0)\n",
            "Installing collected packages: scikit-plot\n",
            "Successfully installed scikit-plot-0.3.7\n"
          ],
          "name": "stdout"
        }
      ]
    },
    {
      "cell_type": "code",
      "metadata": {
        "id": "8oza6LRiZwV7",
        "colab_type": "code",
        "colab": {
          "base_uri": "https://localhost:8080/",
          "height": 312
        },
        "outputId": "2232af00-54e1-448b-e5e5-8ef9b4e65ab5"
      },
      "source": [
        "import scikitplot\n",
        "scikitplot.metrics.plot_confusion_matrix(y_pred,y_test)"
      ],
      "execution_count": 14,
      "outputs": [
        {
          "output_type": "execute_result",
          "data": {
            "text/plain": [
              "<matplotlib.axes._subplots.AxesSubplot at 0x7f43f27a23c8>"
            ]
          },
          "metadata": {
            "tags": []
          },
          "execution_count": 14
        },
        {
          "output_type": "display_data",
          "data": {
            "image/png": "[encoded data removed]",
            "text/plain": [
              "<Figure size 432x288 with 2 Axes>"
            ]
          },
          "metadata": {
            "tags": []
          }
        }
      ]
    },
    {
      "cell_type": "markdown",
      "metadata": {
        "id": "xeDC8sgsat8y",
        "colab_type": "text"
      },
      "source": [
        "## Acuuracy Score"
      ]
    },
    {
      "cell_type": "code",
      "metadata": {
        "id": "QYqRPeHYawcg",
        "colab_type": "code",
        "colab": {
          "base_uri": "https://localhost:8080/",
          "height": 34
        },
        "outputId": "154d10b2-644f-4e94-b547-e789238b06c7"
      },
      "source": [
        "from sklearn.metrics import accuracy_score\n",
        "ac = f\"Accuracy score the model {accuracy_score(y_pred,y_test)}\"\n",
        "print(ac)"
      ],
      "execution_count": 23,
      "outputs": [
        {
          "output_type": "stream",
          "text": [
            "Accuracy score the model 0.5875\n"
          ],
          "name": "stdout"
        }
      ]
    }
  ]
}